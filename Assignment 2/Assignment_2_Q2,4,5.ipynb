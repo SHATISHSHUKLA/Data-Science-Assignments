{
  "nbformat": 4,
  "nbformat_minor": 0,
  "metadata": {
    "colab": {
      "provenance": []
    },
    "kernelspec": {
      "name": "python3",
      "display_name": "Python 3"
    },
    "language_info": {
      "name": "python"
    }
  },
  "cells": [
    {
      "cell_type": "markdown",
      "source": [
        "Q2**.1** A.\tMore employees at the processing center are older than 44 than between 38 and 44."
      ],
      "metadata": {
        "id": "c69P9bJSoPUZ"
      }
    },
    {
      "cell_type": "code",
      "source": [
        "from scipy import stats\n",
        "from scipy.stats import norm"
      ],
      "metadata": {
        "id": "setLk31gnhp3"
      },
      "execution_count": 2,
      "outputs": []
    },
    {
      "cell_type": "code",
      "execution_count": 4,
      "metadata": {
        "colab": {
          "base_uri": "https://localhost:8080/"
        },
        "id": "EJ3-rbw9m_Z4",
        "outputId": "c1ec54fb-6294-4cfc-b33c-a44c14ca471a"
      },
      "outputs": [
        {
          "output_type": "execute_result",
          "data": {
            "text/plain": [
              "0.3413447460685429"
            ]
          },
          "metadata": {},
          "execution_count": 4
        }
      ],
      "source": [
        "# Probaility of employess btw age 38 to 44\n",
        "stats.norm.cdf(44,38,6)-stats.norm.cdf(38,38,6)    "
      ]
    },
    {
      "cell_type": "code",
      "source": [
        "# Probaility of number of employess are older than 44\n",
        "1-stats.norm.cdf(44,38,6)"
      ],
      "metadata": {
        "colab": {
          "base_uri": "https://localhost:8080/"
        },
        "id": "yUyoE1ZnnIID",
        "outputId": "2c36088c-f0eb-49b2-aa5b-6a9d30ea08ac"
      },
      "execution_count": 3,
      "outputs": [
        {
          "output_type": "execute_result",
          "data": {
            "text/plain": [
              "0.15865525393145707"
            ]
          },
          "metadata": {},
          "execution_count": 3
        }
      ]
    },
    {
      "cell_type": "markdown",
      "source": [
        "--------------------------------------------------------------"
      ],
      "metadata": {
        "id": "tIy-wckyqSe2"
      }
    },
    {
      "cell_type": "markdown",
      "source": [
        "Q.4 _ 4.\tLet X ~ N(100, 20sq). Find two values, a and b, symmetric about the mean, such that the probability of the random variable taking a value between them is 0.99. [link text](https://)"
      ],
      "metadata": {
        "id": "c60iTwl6oc6A"
      }
    },
    {
      "cell_type": "code",
      "source": [
        "from scipy.stats import norm\n",
        "\n",
        "mu = 100\n",
        "sigma = 20\n",
        "\n",
        "a,b= norm.interval(0.99,loc=mu,scale=sigma)\n",
        "print(\"the value of a and b are:\", a,b)"
      ],
      "metadata": {
        "colab": {
          "base_uri": "https://localhost:8080/"
        },
        "id": "OSHXJYnHnb6l",
        "outputId": "17ea23ab-11c2-43be-e99b-79312162e03b"
      },
      "execution_count": 5,
      "outputs": [
        {
          "output_type": "stream",
          "name": "stdout",
          "text": [
            "the value of a and b are: 48.48341392902199 151.516586070978\n"
          ]
        }
      ]
    },
    {
      "cell_type": "markdown",
      "source": [
        "--------------"
      ],
      "metadata": {
        "id": "eAGharbkqO9h"
      }
    },
    {
      "cell_type": "markdown",
      "source": [
        "Q5.\tConsider a company that has two different divisions. The annual profits from the two divisions are independent and have distributions Profit1 ~ N(5, 3) and Profit2 ~ N(7, 4) respectively. Both the profits are in $ Million. Answer the following questions about the total profit of the company in Rupees. Assume that $1 = Rs. 45\n",
        "\n"
      ],
      "metadata": {
        "id": "D9HGIGeIqJxJ"
      }
    },
    {
      "cell_type": "markdown",
      "source": [
        "5A.\tSpecify a Rupee range (centered on the mean) such that it contains 95% probability for the annual profit of the company."
      ],
      "metadata": {
        "id": "up-ZRjdrqch0"
      }
    },
    {
      "cell_type": "code",
      "source": [
        "from scipy.stats import norm\n",
        "import numpy as np\n",
        "\n",
        "# mean_total = mean_profit1 + mean_profit2 = 5*45+7*45 = 540\n",
        "#sd_total_profit = np.sqrt(std1**2+ std2**2)\n",
        "sd_total_profit = np.sqrt(9+16) *45\n",
        "\n",
        "a,b = norm.interval(0.95,loc=540,scale=sd_total_profit)\n",
        "print(\"the value of a and b are:\", a,b)"
      ],
      "metadata": {
        "colab": {
          "base_uri": "https://localhost:8080/"
        },
        "id": "OHphY-vUpyY9",
        "outputId": "2bc9c242-6315-44ac-b427-79dca6b767cd"
      },
      "execution_count": 13,
      "outputs": [
        {
          "output_type": "stream",
          "name": "stdout",
          "text": [
            "the value of a and b are: 99.00810347848784 980.9918965215122\n"
          ]
        }
      ]
    },
    {
      "cell_type": "markdown",
      "source": [
        "B. Specify the 5th percentile of profit (in Rupees) for the company"
      ],
      "metadata": {
        "id": "tRgnZ2CowP-M"
      }
    },
    {
      "cell_type": "code",
      "source": [
        "\n",
        "# To compute 5th Percentile, we use the formula X=μ + Zσ; wherein from z table, 5 percentile = -1.645\n",
        "X= 540+(-1.645)*(225)\n",
        "print('5th percentile of profit (in Million Rupees) is',np.round(X,))"
      ],
      "metadata": {
        "colab": {
          "base_uri": "https://localhost:8080/"
        },
        "id": "PyzsdHv9r3sF",
        "outputId": "d848b900-3f19-4236-c2e8-14e6ca7b82e4"
      },
      "execution_count": 15,
      "outputs": [
        {
          "output_type": "stream",
          "name": "stdout",
          "text": [
            "5th percentile of profit (in Million Rupees) is 170.0\n"
          ]
        }
      ]
    },
    {
      "cell_type": "markdown",
      "source": [
        "C. Which of the two divisions has a larger probability of making a loss in a given year?"
      ],
      "metadata": {
        "id": "SI8k3kbZwAQp"
      }
    },
    {
      "cell_type": "code",
      "source": [
        "# Probability of Division 1 making a loss P(X<0)\n",
        "stats.norm.cdf(0,5,3)"
      ],
      "metadata": {
        "colab": {
          "base_uri": "https://localhost:8080/"
        },
        "id": "F-1_2mz9v4DX",
        "outputId": "b2e9b494-79b4-431b-e8e6-424645eea6b6"
      },
      "execution_count": 16,
      "outputs": [
        {
          "output_type": "execute_result",
          "data": {
            "text/plain": [
              "0.0477903522728147"
            ]
          },
          "metadata": {},
          "execution_count": 16
        }
      ]
    },
    {
      "cell_type": "code",
      "source": [
        "# Probability of Division 2 making a loss P(X<0)\n",
        "stats.norm.cdf(0,7,4)"
      ],
      "metadata": {
        "colab": {
          "base_uri": "https://localhost:8080/"
        },
        "id": "e-P0yzQpwX3v",
        "outputId": "454da406-5764-4cc6-ad4c-ce03e6eed501"
      },
      "execution_count": 17,
      "outputs": [
        {
          "output_type": "execute_result",
          "data": {
            "text/plain": [
              "0.040059156863817086"
            ]
          },
          "metadata": {},
          "execution_count": 17
        }
      ]
    },
    {
      "cell_type": "code",
      "source": [],
      "metadata": {
        "id": "NFFFuc0twaSe"
      },
      "execution_count": null,
      "outputs": []
    }
  ]
}